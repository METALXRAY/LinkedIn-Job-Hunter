{
 "cells": [
  {
   "cell_type": "code",
   "execution_count": 125,
   "metadata": {},
   "outputs": [],
   "source": [
    "from selenium import webdriver\n",
    "from selenium.webdriver.common.by import By\n",
    "from bs4 import BeautifulSoup\n",
    "import time\n",
    "import pandas as pd"
   ]
  },
  {
   "cell_type": "code",
   "execution_count": 126,
   "metadata": {},
   "outputs": [],
   "source": [
    "job_name = \"Data Analyst\"\n",
    "country_name = \"United States\"\n",
    "\n",
    "job_url =\"\";\n",
    "for item in job_name.split(\" \"):\n",
    "    if item != job_name.split(\" \")[-1]:\n",
    "        job_url = job_url + item + \"%20\"\n",
    "    else:\n",
    "        job_url = job_url + item\n",
    "\n",
    "country_url =\"\";\n",
    "for item in country_name.split(\" \"):\n",
    "    if item != country_name.split(\" \")[-1]:\n",
    "        country_url = country_url + item + \"%20\"\n",
    "    else:\n",
    "        country_url = country_url + item\n",
    "\n",
    "#url =\"https://www.linkedin.com/jobs/search?keywords={0}&location={1}&geoId=103644278&trk=public_jobs_jobs-search-bar_search-submit&position=1&pageNum=0\"\n",
    "url =\"https://www.linkedin.com/jobs/search?keywords={0}&location={1}&geoId=103644278&trk=public_jobs_jobs-search-bar_search-submit&position=1&pageNum=0\"\n",
    "url=url.format(job_url,country_url)"
   ]
  },
  {
   "cell_type": "code",
   "execution_count": 127,
   "metadata": {},
   "outputs": [],
   "source": [
    "# Creating a webdriver instance\n",
    "driver = webdriver.Chrome(\"chromedriver\")\n",
    "# Opening the url we have just defined in our browser\n",
    "driver.get(url)"
   ]
  },
  {
   "cell_type": "code",
   "execution_count": 128,
   "metadata": {},
   "outputs": [
    {
     "name": "stdout",
     "output_type": "stream",
     "text": [
      "Current at:  1002 Percentage at:  0.5377987249398126 %%\r"
     ]
    }
   ],
   "source": [
    "#We find how many jobs are offered.\n",
    "jobs_num = driver.find_element(By.CSS_SELECTOR,\"h1>span\").get_attribute(\"innerText\")\n",
    "if len(jobs_num.split(',')) > 1:\n",
    "    jobs_num = int(jobs_num.split(',')[0])*1000\n",
    "else:\n",
    "    jobs_num = int(jobs_num)\n",
    "\n",
    "jobs_num   = int(jobs_num)\n",
    "\n",
    "#We create a while loop to browse all jobs. \n",
    "i = 2\n",
    "while i <= int(2000/2)+1: # instead of 2000 replace with jobs_num to extract 100,000+ jobs.\n",
    "    #We keep scrollind down to the end of the view.\n",
    "    driver.execute_script(\"window.scrollTo(0, document.body.scrollHeight);\")\n",
    "    i = i + 1\n",
    "    print(\"Current at: \", i, \"Percentage at: \", ((i+1)/(int(jobs_num/2)+1))*100, \"%\",end=\"\\r\")\n",
    "    try:\n",
    "        #We try to click on the load more results buttons in case it is already displayed.\n",
    "        infinite_scroller_button = driver.find_element(By.XPATH, \".//button[@aria-label='See more jobs']\")\n",
    "        infinite_scroller_button.click()\n",
    "        time.sleep(0.1)\n",
    "    except:\n",
    "        #If there is no button, there will be an error, so we keep scrolling down.\n",
    "        time.sleep(0.1)\n",
    "        pass"
   ]
  },
  {
   "cell_type": "code",
   "execution_count": 129,
   "metadata": {},
   "outputs": [],
   "source": [
    "#We get a list containing all jobs that we have found.\n",
    "job_lists = driver.find_element(By.CLASS_NAME,\"jobs-search__results-list\")\n",
    "jobs = job_lists.find_elements(By.TAG_NAME,\"li\") # return a list\n",
    "\n",
    "#We declare void list to keep track of all obtaind data.\n",
    "job_title_list = []\n",
    "company_name_list = []\n",
    "location_list = []\n",
    "date_list = []\n",
    "job_link_list = []\n",
    "\n",
    "#We loof over every job and obtain all the wanted info.\n",
    "for job in jobs:\n",
    "    #job_title\n",
    "    job_title = job.find_element(By.CSS_SELECTOR,\"h3\").get_attribute(\"innerText\")\n",
    "    job_title_list.append(job_title)\n",
    "    \n",
    "    #company_name\n",
    "    company_name = job.find_element(By.CSS_SELECTOR,\"h4\").get_attribute(\"innerText\")\n",
    "    company_name_list.append(company_name)\n",
    "    \n",
    "    #location\n",
    "    location = job.find_element(By.CSS_SELECTOR,\"div>div>span\").get_attribute(\"innerText\")\n",
    "    location_list.append(location)\n",
    "    \n",
    "    #date\n",
    "    date = job.find_element(By.CSS_SELECTOR,\"div>div>time\").get_attribute(\"datetime\")\n",
    "    date_list.append(date)\n",
    "    \n",
    "    #job_link\n",
    "    job_link = job.find_element(By.CSS_SELECTOR,\"a\").get_attribute(\"href\")\n",
    "    job_link_list.append(job_link)"
   ]
  },
  {
   "cell_type": "code",
   "execution_count": 130,
   "metadata": {},
   "outputs": [
    {
     "name": "stdout",
     "output_type": "stream",
     "text": [
      "0\n",
      "Current at:  0 Percentage at:  4.0 %\n",
      "1\n",
      "Current at:  1 Percentage at:  8.0 %\n",
      "2\n",
      "Current at:  2 Percentage at:  12.0 %\n",
      "3\n",
      "Current at:  3 Percentage at:  16.0 %\n",
      "4\n",
      "Current at:  4 Percentage at:  20.0 %\n",
      "5\n",
      "Current at:  5 Percentage at:  24.0 %\n",
      "6\n",
      "Current at:  6 Percentage at:  28.000000000000004 %\n",
      "7\n",
      "Current at:  7 Percentage at:  32.0 %\n",
      "8\n",
      "Current at:  8 Percentage at:  36.0 %\n",
      "9\n",
      "Current at:  9 Percentage at:  40.0 %\n",
      "10\n",
      "Current at:  10 Percentage at:  44.0 %\n",
      "11\n",
      "Current at:  11 Percentage at:  48.0 %\n",
      "12\n",
      "Current at:  12 Percentage at:  52.0 %\n",
      "13\n",
      "Current at:  13 Percentage at:  56.00000000000001 %\n",
      "14\n",
      "Current at:  14 Percentage at:  60.0 %\n",
      "15\n",
      "Current at:  15 Percentage at:  64.0 %\n",
      "16\n",
      "Current at:  16 Percentage at:  68.0 %\n",
      "17\n",
      "Current at:  17 Percentage at:  72.0 %\n",
      "18\n",
      "Current at:  18 Percentage at:  76.0 %\n",
      "19\n",
      "Current at:  19 Percentage at:  80.0 %\n",
      "20\n",
      "Current at:  20 Percentage at:  84.0 %\n",
      "21\n",
      "Current at:  21 Percentage at:  88.0 %\n",
      "22\n",
      "Current at:  22 Percentage at:  92.0 %\n",
      "23\n",
      "Current at:  23 Percentage at:  96.0 %\n",
      "24\n",
      "Current at:  24 Percentage at:  100.0 %\n"
     ]
    }
   ],
   "source": [
    "jd = [] #job_description\n",
    "seniority = []\n",
    "emp_type = []\n",
    "job_func = []\n",
    "job_ind = []\n",
    "for item in range(len(jobs)):\n",
    "    print(item)\n",
    "    job_func0=[]\n",
    "    industries0=[]\n",
    "    # clicking job to view job details\n",
    "    \n",
    "    #__________________________________________________________________________ JOB Link\n",
    "    \n",
    "    try: \n",
    "        job_click_path = f'/html/body/div/div/main/section/ul/li[{item+1}]'\n",
    "        job_click = job.find_element(By.XPATH,job_click_path).click()\n",
    "    except:\n",
    "        pass\n",
    "    #job_click = job.find_element(By.XPATH,'.//a[@class=\"base-card_full-link\"]')\n",
    "    \n",
    "    #__________________________________________________________________________ JOB Description\n",
    "    jd_path = '/html/body/div/div/section/div/div/section/div/div/section/div'\n",
    "    try:\n",
    "        jd0 = job.find_element(By.XPATH,jd_path).get_attribute('innerText')\n",
    "        jd.append(jd0)\n",
    "    except:\n",
    "        jd.append(None)\n",
    "        pass\n",
    "    \n",
    "    #__________________________________________________________________________ JOB Seniority\n",
    "    seniority_path='/html/body/div/div/section/div/div/section/div/ul/li[1]/span'\n",
    "    \n",
    "    try:\n",
    "        seniority0 = job.find_element(By.XPATH,seniority_path).get_attribute('innerText')\n",
    "        seniority.append(seniority0)\n",
    "    except:\n",
    "        seniority.append(None)\n",
    "        pass\n",
    "\n",
    "    #__________________________________________________________________________ JOB Time\n",
    "    emp_type_path='/html/body/div/div/section/div/div/section/div/ul/li[2]/span'\n",
    "    \n",
    "    try:\n",
    "        emp_type0 = job.find_element(By.XPATH,emp_type_path).get_attribute('innerText')\n",
    "        emp_type.append(emp_type0)\n",
    "    except:\n",
    "        emp_type.append(None)\n",
    "        pass\n",
    "    \n",
    "    #__________________________________________________________________________ JOB Function\n",
    "    function_path='/html/body/div/div/section/div/div/section/div/ul/li[3]/span'\n",
    "    \n",
    "    try:\n",
    "        func0 = job.find_element(By.XPATH,function_path).get_attribute('innerText')\n",
    "        job_func.append(func0)\n",
    "    except:\n",
    "        job_func.append(None)\n",
    "        pass\n",
    "\n",
    "    #__________________________________________________________________________ JOB Industry\n",
    "    industry_path='/html/body/div/div/section/div/div/section/div/ul/li[4]/span'\n",
    "    \n",
    "    try:\n",
    "        ind0 = job.find_element(By.XPATH,industry_path).get_attribute('innerText')\n",
    "        job_ind.append(ind0)\n",
    "    except:\n",
    "        job_ind.append(None)\n",
    "        pass\n",
    "    \n",
    "    print(\"Current at: \", item, \"Percentage at: \", (item+1)/len(jobs)*100, \"%\")"
   ]
  },
  {
   "cell_type": "code",
   "execution_count": 131,
   "metadata": {},
   "outputs": [
    {
     "name": "stdout",
     "output_type": "stream",
     "text": [
      "Length of  Job Link List is:  25\n",
      "Length of  Company name List is:  25\n",
      "Length of  Location List is:  25\n",
      "Length of  Job Title List is:  25\n",
      "Length of  Job Desc. List is:  25\n",
      "Length of  Seniority List is:  25\n",
      "Length of  Employment type List is:  25\n",
      "Length of  Date List is:  25\n",
      "Length of  Job func is:  25\n",
      "Length of  Job ind List is:  25\n"
     ]
    }
   ],
   "source": [
    "print(\"Length of  Job Link List is: \",len(job_link_list))\n",
    "print(\"Length of  Company name List is: \",len(company_name_list))\n",
    "print(\"Length of  Location List is: \",len(location_list))\n",
    "print(\"Length of  Job Title List is: \",len(job_title_list))\n",
    "print(\"Length of  Job Desc. List is: \",len(jd))\n",
    "print(\"Length of  Seniority List is: \",len(seniority))\n",
    "print(\"Length of  Employment type List is: \",len(emp_type))\n",
    "print(\"Length of  Date List is: \",len(date_list))\n",
    "print(\"Length of  Job func is: \",len(job_func))\n",
    "print(\"Length of  Job ind List is: \",len(job_ind))"
   ]
  },
  {
   "cell_type": "code",
   "execution_count": 132,
   "metadata": {},
   "outputs": [
    {
     "name": "stdout",
     "output_type": "stream",
     "text": [
      "25\n"
     ]
    }
   ],
   "source": [
    "equalsize = len(jd)\n",
    "print(equalsize)"
   ]
  },
  {
   "cell_type": "code",
   "execution_count": 133,
   "metadata": {},
   "outputs": [],
   "source": [
    "date_list = date_list[:equalsize]\n",
    "company_name_list = company_name_list[:equalsize]\n",
    "job_title_list = job_title_list[:equalsize]\n",
    "location_list = location_list[:equalsize]\n",
    "job_link_list = job_link_list[:equalsize]"
   ]
  },
  {
   "cell_type": "code",
   "execution_count": 134,
   "metadata": {},
   "outputs": [
    {
     "name": "stdout",
     "output_type": "stream",
     "text": [
      "Length of  Job Link List is:  25\n",
      "Length of  Company name List is:  25\n",
      "Length of  Location List is:  25\n",
      "Length of  Job Title List is:  25\n",
      "Length of  Job Desc. List is:  25\n",
      "Length of  Seniority List is:  25\n",
      "Length of  Employment type List is:  25\n",
      "Length of  Date List is:  25\n",
      "Length of  Job func is:  25\n",
      "Length of  Job ind List is:  25\n"
     ]
    }
   ],
   "source": [
    "print(\"Length of  Job Link List is: \",len(job_link_list))\n",
    "print(\"Length of  Company name List is: \",len(company_name_list))\n",
    "print(\"Length of  Location List is: \",len(location_list))\n",
    "print(\"Length of  Job Title List is: \",len(job_title_list))\n",
    "print(\"Length of  Job Desc. List is: \",len(jd))\n",
    "print(\"Length of  Seniority List is: \",len(seniority))\n",
    "print(\"Length of  Employment type List is: \",len(emp_type))\n",
    "print(\"Length of  Date List is: \",len(date_list))\n",
    "print(\"Length of  Job func is: \",len(job_func))\n",
    "print(\"Length of  Job ind List is: \",len(job_ind))"
   ]
  },
  {
   "cell_type": "code",
   "execution_count": 135,
   "metadata": {},
   "outputs": [],
   "source": [
    "job_data = pd.DataFrame({\n",
    "    'Date': date_list,\n",
    "    'Company': company_name_list,\n",
    "    'Title': job_title_list,\n",
    "    'Location': location_list,\n",
    "    'Description': jd,\n",
    "    'Level': seniority,\n",
    "    'Type': emp_type,\n",
    "    'Function': job_func,\n",
    "    'Industry': job_ind,\n",
    "    'Link': job_link_list\n",
    "})"
   ]
  },
  {
   "cell_type": "code",
   "execution_count": 136,
   "metadata": {},
   "outputs": [],
   "source": [
    "# job_data = pd.DataFrame({\n",
    "#     'Date': date,\n",
    "#     'Company': company_name,\n",
    "#     'Title': job_title,\n",
    "#     'Location': location,\n",
    "#     'Description': jd,\n",
    "#     'Level': seniority,\n",
    "#     'Type': emp_type,\n",
    "#     'Function': job_func,\n",
    "#     'Industry': job_ind,\n",
    "#     'Link': job_link\n",
    "# })"
   ]
  },
  {
   "cell_type": "code",
   "execution_count": 137,
   "metadata": {},
   "outputs": [
    {
     "data": {
      "text/html": [
       "<div>\n",
       "<style scoped>\n",
       "    .dataframe tbody tr th:only-of-type {\n",
       "        vertical-align: middle;\n",
       "    }\n",
       "\n",
       "    .dataframe tbody tr th {\n",
       "        vertical-align: top;\n",
       "    }\n",
       "\n",
       "    .dataframe thead th {\n",
       "        text-align: right;\n",
       "    }\n",
       "</style>\n",
       "<table border=\"1\" class=\"dataframe\">\n",
       "  <thead>\n",
       "    <tr style=\"text-align: right;\">\n",
       "      <th></th>\n",
       "      <th>Date</th>\n",
       "      <th>Company</th>\n",
       "      <th>Title</th>\n",
       "      <th>Location</th>\n",
       "      <th>Description</th>\n",
       "      <th>Level</th>\n",
       "      <th>Type</th>\n",
       "      <th>Function</th>\n",
       "      <th>Industry</th>\n",
       "      <th>Link</th>\n",
       "    </tr>\n",
       "  </thead>\n",
       "  <tbody>\n",
       "    <tr>\n",
       "      <th>0</th>\n",
       "      <td>2023-01-27</td>\n",
       "      <td>InterEx Group</td>\n",
       "      <td>Data Analyst</td>\n",
       "      <td>United States</td>\n",
       "      <td>The ideal candidate will use their passion for...</td>\n",
       "      <td>Mid-Senior level</td>\n",
       "      <td>Contract</td>\n",
       "      <td>Information Technology</td>\n",
       "      <td>Retail</td>\n",
       "      <td>https://www.linkedin.com/jobs/view/data-analys...</td>\n",
       "    </tr>\n",
       "    <tr>\n",
       "      <th>1</th>\n",
       "      <td>2023-01-26</td>\n",
       "      <td>P.volve</td>\n",
       "      <td>Data Analyst</td>\n",
       "      <td>United States</td>\n",
       "      <td>\\n        The ideal candidate will use their p...</td>\n",
       "      <td>\\n            Mid-Senior level\\n</td>\n",
       "      <td>\\n          Contract\\n</td>\n",
       "      <td>\\n            Information Technology\\n</td>\n",
       "      <td>\\n          Retail\\n</td>\n",
       "      <td>https://www.linkedin.com/jobs/view/data-analys...</td>\n",
       "    </tr>\n",
       "    <tr>\n",
       "      <th>2</th>\n",
       "      <td>2023-01-24</td>\n",
       "      <td>Baked by Melissa</td>\n",
       "      <td>Junior Data Analyst</td>\n",
       "      <td>New York, United States</td>\n",
       "      <td>\\n        The ideal candidate will use their p...</td>\n",
       "      <td>\\n            Mid-Senior level\\n</td>\n",
       "      <td>\\n          Contract\\n</td>\n",
       "      <td>\\n            Information Technology\\n</td>\n",
       "      <td>\\n          Retail\\n</td>\n",
       "      <td>https://www.linkedin.com/jobs/view/junior-data...</td>\n",
       "    </tr>\n",
       "    <tr>\n",
       "      <th>3</th>\n",
       "      <td>2023-01-21</td>\n",
       "      <td>Alan Gray LLC</td>\n",
       "      <td>Data Analyst</td>\n",
       "      <td>Boston, MA</td>\n",
       "      <td>\\n        The ideal candidate will use their p...</td>\n",
       "      <td>\\n            Mid-Senior level\\n</td>\n",
       "      <td>\\n          Contract\\n</td>\n",
       "      <td>\\n            Information Technology\\n</td>\n",
       "      <td>\\n          Retail\\n</td>\n",
       "      <td>https://www.linkedin.com/jobs/view/data-analys...</td>\n",
       "    </tr>\n",
       "    <tr>\n",
       "      <th>4</th>\n",
       "      <td>2023-01-24</td>\n",
       "      <td>Averity</td>\n",
       "      <td>Data Analyst</td>\n",
       "      <td>New York City Metropolitan Area</td>\n",
       "      <td>\\n        The ideal candidate will use their p...</td>\n",
       "      <td>\\n            Mid-Senior level\\n</td>\n",
       "      <td>\\n          Contract\\n</td>\n",
       "      <td>\\n            Information Technology\\n</td>\n",
       "      <td>\\n          Retail\\n</td>\n",
       "      <td>https://www.linkedin.com/jobs/view/data-analys...</td>\n",
       "    </tr>\n",
       "  </tbody>\n",
       "</table>\n",
       "</div>"
      ],
      "text/plain": [
       "         Date           Company                Title  \\\n",
       "0  2023-01-27     InterEx Group         Data Analyst   \n",
       "1  2023-01-26           P.volve         Data Analyst   \n",
       "2  2023-01-24  Baked by Melissa  Junior Data Analyst   \n",
       "3  2023-01-21     Alan Gray LLC         Data Analyst   \n",
       "4  2023-01-24           Averity         Data Analyst   \n",
       "\n",
       "                          Location  \\\n",
       "0                    United States   \n",
       "1                    United States   \n",
       "2          New York, United States   \n",
       "3                       Boston, MA   \n",
       "4  New York City Metropolitan Area   \n",
       "\n",
       "                                         Description  \\\n",
       "0  The ideal candidate will use their passion for...   \n",
       "1  \\n        The ideal candidate will use their p...   \n",
       "2  \\n        The ideal candidate will use their p...   \n",
       "3  \\n        The ideal candidate will use their p...   \n",
       "4  \\n        The ideal candidate will use their p...   \n",
       "\n",
       "                                        Level                            Type  \\\n",
       "0                            Mid-Senior level                        Contract   \n",
       "1  \\n            Mid-Senior level\\n            \\n          Contract\\n           \n",
       "2  \\n            Mid-Senior level\\n            \\n          Contract\\n           \n",
       "3  \\n            Mid-Senior level\\n            \\n          Contract\\n           \n",
       "4  \\n            Mid-Senior level\\n            \\n          Contract\\n           \n",
       "\n",
       "                                           Function  \\\n",
       "0                            Information Technology   \n",
       "1  \\n            Information Technology\\n             \n",
       "2  \\n            Information Technology\\n             \n",
       "3  \\n            Information Technology\\n             \n",
       "4  \\n            Information Technology\\n             \n",
       "\n",
       "                         Industry  \\\n",
       "0                          Retail   \n",
       "1  \\n          Retail\\n             \n",
       "2  \\n          Retail\\n             \n",
       "3  \\n          Retail\\n             \n",
       "4  \\n          Retail\\n             \n",
       "\n",
       "                                                Link  \n",
       "0  https://www.linkedin.com/jobs/view/data-analys...  \n",
       "1  https://www.linkedin.com/jobs/view/data-analys...  \n",
       "2  https://www.linkedin.com/jobs/view/junior-data...  \n",
       "3  https://www.linkedin.com/jobs/view/data-analys...  \n",
       "4  https://www.linkedin.com/jobs/view/data-analys...  "
      ]
     },
     "execution_count": 137,
     "metadata": {},
     "output_type": "execute_result"
    }
   ],
   "source": [
    "job_data.head()"
   ]
  },
  {
   "cell_type": "code",
   "execution_count": 138,
   "metadata": {},
   "outputs": [
    {
     "name": "stdout",
     "output_type": "stream",
     "text": [
      "<class 'pandas.core.frame.DataFrame'>\n",
      "RangeIndex: 25 entries, 0 to 24\n",
      "Data columns (total 10 columns):\n",
      " #   Column       Non-Null Count  Dtype \n",
      "---  ------       --------------  ----- \n",
      " 0   Date         25 non-null     object\n",
      " 1   Company      25 non-null     object\n",
      " 2   Title        25 non-null     object\n",
      " 3   Location     25 non-null     object\n",
      " 4   Description  25 non-null     object\n",
      " 5   Level        25 non-null     object\n",
      " 6   Type         25 non-null     object\n",
      " 7   Function     25 non-null     object\n",
      " 8   Industry     25 non-null     object\n",
      " 9   Link         25 non-null     object\n",
      "dtypes: object(10)\n",
      "memory usage: 2.1+ KB\n"
     ]
    }
   ],
   "source": [
    "job_data.info()"
   ]
  },
  {
   "cell_type": "code",
   "execution_count": 139,
   "metadata": {},
   "outputs": [],
   "source": [
    "import pandas as pd\n",
    "import gspread\n",
    "import df2gspread as d2g\n",
    "from oauth2client.service_account import ServiceAccountCredentials\n",
    "from df2gspread import df2gspread as d2g"
   ]
  },
  {
   "cell_type": "code",
   "execution_count": 90,
   "metadata": {},
   "outputs": [],
   "source": [
    "scope = ['https://spreadsheets.google.com/feeds','https://www.googleapis.com/auth/drive']\n",
    "credentials = ServiceAccountCredentials.from_json_keyfile_name('jsonFileFromGoogle.json', scope) #JSON FILE NOT ADDED DUE TO SECURITY \n",
    "gc = gspread.authorize(credentials)"
   ]
  },
  {
   "cell_type": "code",
   "execution_count": 140,
   "metadata": {},
   "outputs": [
    {
     "data": {
      "text/plain": [
       "<Worksheet 'Sheet1' id:1084602939>"
      ]
     },
     "execution_count": 140,
     "metadata": {},
     "output_type": "execute_result"
    }
   ],
   "source": [
    "spreadsheet_key = 'SheetID'\n",
    "wks_name = 'Sheet1'\n",
    "d2g.upload(job_data, spreadsheet_key, wks_name, credentials=credentials, row_names=True)"
   ]
  }
 ],
 "metadata": {
  "kernelspec": {
   "display_name": "Python 3",
   "language": "python",
   "name": "python3"
  },
  "language_info": {
   "codemirror_mode": {
    "name": "ipython",
    "version": 3
   },
   "file_extension": ".py",
   "mimetype": "text/x-python",
   "name": "python",
   "nbconvert_exporter": "python",
   "pygments_lexer": "ipython3",
   "version": "3.11.0 (main, Oct 24 2022, 18:26:48) [MSC v.1933 64 bit (AMD64)]"
  },
  "orig_nbformat": 4,
  "vscode": {
   "interpreter": {
    "hash": "c261aea317cc0286b3b3261fbba9abdec21eaa57589985bb7a274bf54d6cc0a7"
   }
  }
 },
 "nbformat": 4,
 "nbformat_minor": 2
}
